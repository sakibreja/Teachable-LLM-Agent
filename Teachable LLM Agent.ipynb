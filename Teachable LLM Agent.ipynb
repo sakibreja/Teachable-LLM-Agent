{
 "cells": [
  {
   "cell_type": "code",
   "execution_count": null,
   "id": "5e5d384e",
   "metadata": {},
   "outputs": [],
   "source": [
    "# ! pip install \"pyautogen[teachable]\"\n",
    "\n",
    "import os\n",
    "from autogen import UserProxyAgent, config_list_from_json\n",
    "from autogen.agentchat.contrib.capabilities.teachability import Teachability\n",
    "from autogen import ConversableAgent\n",
    "from dotenv import load_dotenv\n",
    "\n",
    "load_dotenv(override=True)"
   ]
  },
  {
   "cell_type": "code",
   "execution_count": null,
   "id": "00c8a8f1",
   "metadata": {},
   "outputs": [],
   "source": [
    "llm_config = {\n",
    "    \"model\": \"gpt-4o\",\n",
    "    \"api_key\": os.getenv(\"OPENAI_API_KEY\"),\n",
    "}"
   ]
  },
  {
   "cell_type": "markdown",
   "id": "20ec2bed",
   "metadata": {},
   "source": [
    "## Create the agents"
   ]
  },
  {
   "cell_type": "code",
   "execution_count": null,
   "id": "b007e34e",
   "metadata": {},
   "outputs": [],
   "source": [
    "teachable_agent = ConversableAgent(\n",
    "    name=\"teachble_agent\",\n",
    "    llm_config=llm_config,\n",
    ")\n",
    "\n",
    "teachability = Teachability(\n",
    "    reset_db=True,  # Use True to force-reset the memo DB, and False to use an existing DB.\n",
    "    path_to_db_dir=\"./tmp/interachability_db\"  #Can be any path, but teachable agents in a group chat require unique paths.\n",
    ")\n",
    "\n",
    "techability.add_to_agent(teachable_agent)\n",
    "\n",
    "user = UserProxyAgent(\n",
    "    \"user\",\n",
    "    human_input_mode=\"ALWAYS\",\n",
    "    code_execution_config={\"user_docker\": False},\n",
    ")"
   ]
  },
  {
   "cell_type": "markdown",
   "id": "b44498aa",
   "metadata": {},
   "source": [
    "## Chat with techable agent"
   ]
  },
  {
   "cell_type": "code",
   "execution_count": null,
   "id": "ad3aa0c4",
   "metadata": {},
   "outputs": [],
   "source": [
    "teachble_agent.initial_chat(user, message=\"Hi, I'm a teachable user assistant! What's on your mind?\")"
   ]
  },
  {
   "cell_type": "code",
   "execution_count": null,
   "id": "1c8854ab",
   "metadata": {},
   "outputs": [],
   "source": [
    "teachble_agent.initial_chat(user, message=\"Hi, I'm a teachable user assistant! What's on your mind?\")"
   ]
  }
 ],
 "metadata": {
  "kernelspec": {
   "display_name": "Python 3",
   "language": "python",
   "name": "python3"
  },
  "language_info": {
   "codemirror_mode": {
    "name": "ipython",
    "version": 3
   },
   "file_extension": ".py",
   "mimetype": "text/x-python",
   "name": "python",
   "nbconvert_exporter": "python",
   "pygments_lexer": "ipython3",
   "version": "3.9.13"
  }
 },
 "nbformat": 4,
 "nbformat_minor": 5
}
